{
 "cells":[
  {
   "cell_type":"code",
   "source":[
    "%config Completer.use_jedi = False\n",
    "import numpy as np\n",
    "import pandas as pd\n",
    "\n",
    "import os\n",
    "for dirname, _, filenames in os.walk('\/kaggle\/input'):\n",
    "    for filename in filenames:\n",
    "        print(os.path.join(dirname, filename))\n",
    "\n",
    "import warnings\n",
    "warnings.filterwarnings(\"ignore\")"
   ],
   "execution_count":null,
   "outputs":[
    
   ],
   "metadata":{
    "datalore":{
     "node_id":"T7t6ezDOubGtJWrHNAo2LE",
     "type":"CODE",
     "hide_input_from_viewers":false,
     "hide_output_from_viewers":false,
     "report_properties":{
      "y":0
     }
    }
   }
  },
  {
   "cell_type":"code",
   "source":[
    "df = pd.read_csv(\"\/kaggle\/input\/clicks-conversion-tracking\/KAG_conversion_data.csv\")"
   ],
   "execution_count":null,
   "outputs":[
    {
     "ename":"FileNotFoundError",
     "evalue":"FileNotFoundError: [Errno 2] No such file or directory: '\/kaggle\/input\/clicks-conversion-tracking\/KAG_conversion_data.csv'",
     "traceback":[
      "\u001b[0;31m---------------------------------------------------------------------------",
      "Traceback (most recent call last)",
      "    at line 1 in <module>",
      "    at line 311 in wrapper(*args, **kwargs)",
      "    at line 586 in read_csv(filepath_or_buffer, sep, delimiter, header, names, index_col, usecols, squeeze, prefix, mangle_dupe_cols, dtype, engine, converters, true_values, false_values, skipinitialspace, skiprows, skipfooter, nrows, na_values, keep_default_na, na_filter, verbose, skip_blank_lines, parse_dates, infer_datetime_format, keep_date_col, date_parser, dayfirst, cache_dates, iterator, chunksize, compression, thousands, decimal, lineterminator, quotechar, quoting, doublequote, escapechar, comment, encoding, encoding_errors, dialect, error_bad_lines, warn_bad_lines, on_bad_lines, delim_whitespace, low_memory, memory_map, float_precision, storage_options)",
      "    at line 482 in _read(filepath_or_buffer, kwds)",
      "    at line 811 in __init__(self, f, engine, **kwds)",
      "    at line 1040 in _make_engine(self, engine)",
      "    at line 51 in __init__(self, src, **kwds)",
      "    at line 222 in _open_handles(self, src, kwds)",
      "    at line 702 in get_handle(path_or_buf, mode, encoding, compression, memory_map, is_text, errors, storage_options)",
      "FileNotFoundError: [Errno 2] No such file or directory: '\/kaggle\/input\/clicks-conversion-tracking\/KAG_conversion_data.csv'"
     ],
     "output_type":"error"
    }
   ],
   "metadata":{
    "datalore":{
     "node_id":"DksH2wNfPLhOywq6muZYaK",
     "type":"CODE",
     "hide_input_from_viewers":true,
     "hide_output_from_viewers":true
    }
   }
  },
  {
   "cell_type":"code",
   "source":[
    "original_data = pd.read_csv(\"\/data\/notebook_files\/KAG_conversion_data.csv\")\n",
    "original_data.info()"
   ],
   "execution_count":null,
   "outputs":[
    {
     "name":"stdout",
     "text":[
      "<class 'pandas.core.frame.DataFrame'>\n",
      "RangeIndex: 1143 entries, 0 to 1142\n",
      "Data columns (total 11 columns):\n",
      " #   Column               Non-Null Count  Dtype  \n",
      "---  ------               --------------  -----  \n",
      " 0   ad_id                1143 non-null   int64  \n",
      " 1   xyz_campaign_id      1143 non-null   int64  \n",
      " 2   fb_campaign_id       1143 non-null   int64  \n",
      " 3   age                  1143 non-null   object \n",
      " 4   gender               1143 non-null   object \n",
      " 5   interest             1143 non-null   int64  \n",
      " 6   Impressions          1143 non-null   int64  \n",
      " 7   Clicks               1143 non-null   int64  \n",
      " 8   Spent                1143 non-null   float64\n",
      " 9   Total_Conversion     1143 non-null   int64  \n",
      " 10  Approved_Conversion  1143 non-null   int64  \n",
      "dtypes: float64(1), int64(8), object(2)\n",
      "memory usage: 98.4+ KB\n"
     ],
     "output_type":"stream"
    }
   ],
   "metadata":{
    "datalore":{
     "node_id":"m5dOP42jnzd0UCdfmZlFM8",
     "type":"CODE",
     "hide_input_from_viewers":false,
     "hide_output_from_viewers":false,
     "report_properties":{
      "y":8
     }
    }
   }
  },
  {
   "cell_type":"code",
   "source":[
    "# There are three unique campaign in the dataset.\n",
    "camp_id_list = original_data[\"xyz_campaign_id\"].unique()\n",
    "\n",
    "# construct the campaign data\n",
    "camp_data = {'xyz_campaign_id': [], 'Impressions': [], 'Clicks': [], 'Spent': [], 'Total_Conversion': [], 'Approved_Conversion': []}\n",
    "for id in camp_id_list:\n",
    "    camp_data['xyz_campaign_id'].append(id)\n",
    "    camp_data['Impressions'].append(sum(original_data[original_data['xyz_campaign_id'] == id]['Impressions']))\n",
    "    camp_data['Clicks'].append(sum(original_data[original_data['xyz_campaign_id'] == id]['Clicks']))\n",
    "    camp_data['Spent'].append(sum(original_data[original_data['xyz_campaign_id'] == id]['Spent']))\n",
    "    camp_data['Total_Conversion'].append(sum(original_data[original_data['xyz_campaign_id'] == id]['Total_Conversion']))\n",
    "    camp_data['Approved_Conversion'].append(sum(original_data[original_data['xyz_campaign_id'] == id]['Approved_Conversion']))\n",
    "    \n",
    "camp_data = pd.DataFrame(camp_data)\n",
    "print(camp_data)"
   ],
   "execution_count":null,
   "outputs":[
    {
     "name":"stdout",
     "text":[
      "   xyz_campaign_id  Impressions  Clicks         Spent  Total_Conversion  \\\n",
      "0              916       482925     113    149.710001                58   \n",
      "1              936      8128187    1984   2893.369999               537   \n",
      "2             1178    204823716   36068  55662.149959              2669   \n",
      "\n",
      "   Approved_Conversion  \n",
      "0                   24  \n",
      "1                  183  \n",
      "2                  872  \n"
     ],
     "output_type":"stream"
    }
   ],
   "metadata":{
    "datalore":{
     "node_id":"YWORYSHMC16j77xdLsAOqy",
     "type":"CODE",
     "hide_input_from_viewers":false,
     "hide_output_from_viewers":false,
     "report_properties":{
      "y":21
     }
    }
   }
  },
  {
   "cell_type":"code",
   "source":[
    "camp_data.insert(6, \"Spent\/Imp(k)\", camp_data['Spent']\/camp_data['Impressions']*1000, True)\n",
    "camp_data.insert(7, \"Conversion\/Imp(k)\", camp_data['Total_Conversion']\/camp_data['Impressions']*1000, True)\n",
    "print(camp_data)"
   ],
   "execution_count":null,
   "outputs":[
    {
     "name":"stdout",
     "text":[
      "   xyz_campaign_id  Impressions  Clicks         Spent  Total_Conversion  \\\n",
      "0              916       482925     113    149.710001                58   \n",
      "1              936      8128187    1984   2893.369999               537   \n",
      "2             1178    204823716   36068  55662.149959              2669   \n",
      "\n",
      "   Approved_Conversion  Spent\/Imp(k)  Conversion\/Imp(k)  \n",
      "0                   24      0.310007           0.120101  \n",
      "1                  183      0.355967           0.066066  \n",
      "2                  872      0.271756           0.013031  \n"
     ],
     "output_type":"stream"
    }
   ],
   "metadata":{
    "datalore":{
     "node_id":"7sauoKxy0EYjF3VJTs72MG",
     "type":"CODE",
     "hide_input_from_viewers":false,
     "hide_output_from_viewers":false,
     "report_properties":{
      "y":36
     }
    }
   }
  },
  {
   "cell_type":"code",
   "source":[
    "import matplotlib.pylab as plt\n",
    "import seaborn as sns\n",
    "sns.regplot(x=camp_data[\"Spent\/Imp(k)\"], y=camp_data[\"Conversion\/Imp(k)\"],fit_reg=False, marker=\"o\", color=\"skyblue\", scatter_kws={'s':200})\n",
    "\n",
    "for line in range(0,camp_data.shape[0]):\n",
    "     plt.text(camp_data[\"Spent\/Imp(k)\"][line]-0.005, camp_data[\"Conversion\/Imp(k)\"][line], camp_data[\"xyz_campaign_id\"][line], horizontalalignment='left', size='medium', color='black', weight='semibold')\n",
    "\n",
    "plt.axvline(min(camp_data[\"Spent\/Imp(k)\"]) + (max(camp_data[\"Spent\/Imp(k)\"])-min(camp_data[\"Spent\/Imp(k)\"]))\/2, color='skyblue')\n",
    "plt.axhline(min(camp_data[\"Conversion\/Imp(k)\"]) + (max(camp_data[\"Conversion\/Imp(k)\"])-min(camp_data[\"Conversion\/Imp(k)\"]))\/2, color='skyblue')\n",
    "plt.show()"
   ],
   "execution_count":null,
   "outputs":[
    {
     "data":{
      "image\/png":"[encoded data removed]"
     },
     "metadata":{
      "image\/png":{
       
      }
     },
     "output_type":"display_data"
    }
   ],
   "metadata":{
    "datalore":{
     "node_id":"176sj2oDsn306XunQsNDmo",
     "type":"CODE",
     "hide_input_from_viewers":false,
     "hide_output_from_viewers":false,
     "report_properties":{
      "y":45
     }
    }
   }
  },
  {
   "cell_type":"code",
   "source":[
    "import torch\n",
    "from sklearn.model_selection import train_test_split\n",
    "from sklearn import preprocessing\n",
    "from torch.utils.data import Dataset, DataLoader\n",
    "\n",
    "camp_1178_data = original_data[original_data['xyz_campaign_id'] == 1178]\n",
    "camp_1178_data.reset_index(drop = True, inplace = True)\n",
    "camp_1178_data.drop(columns=['ad_id', 'xyz_campaign_id', 'fb_campaign_id', 'Clicks', 'Spent', \"Approved_Conversion\"], inplace = True)\n",
    "camp_1178_data[\"Impressions\"] = preprocessing.scale(camp_1178_data[\"Impressions\"])\n",
    "camp_1178_data[\"Total_Conversion\"] = preprocessing.scale(camp_1178_data[\"Total_Conversion\"])\n",
    "\n",
    "age2index = dict([(y,x+1) for x,y in enumerate(sorted(set(camp_1178_data[\"age\"])))])\n",
    "gender2index = dict([(y,x+1) for x,y in enumerate(sorted(set(camp_1178_data[\"gender\"])))])\n",
    "interest2index = dict([(y,x+1) for x,y in enumerate(sorted(set(camp_1178_data[\"interest\"])))])\n",
    "\n",
    "camp_1178_data['age'] = camp_1178_data['age'].map(age2index)\n",
    "camp_1178_data['gender'] = camp_1178_data['gender'].map(gender2index)\n",
    "camp_1178_data['interest'] = camp_1178_data['interest'].map(interest2index)\n",
    "\n",
    "X = camp_1178_data.iloc[:, :4]\n",
    "y = camp_1178_data.iloc[:, -1]\n",
    "X_train, X_test, y_train, y_test = train_test_split(X, y, test_size=0.33, random_state=42)\n",
    "\n",
    "class CustomCampaignDataset(Dataset):\n",
    "    def __init__(self, target, results):\n",
    "        self.target = target\n",
    "        self.results = results\n",
    "    \n",
    "    def __len__(self):\n",
    "        return len(self.results)\n",
    "    \n",
    "    def __getitem__(self, idx):\n",
    "        target = self.target[idx]\n",
    "        result = self.results[idx]\n",
    "        return target, result\n",
    "\n",
    "trainset = CustomCampaignDataset(torch.tensor(np.array(X_train)), torch.tensor(np.array(y_train)))\n",
    "testset = CustomCampaignDataset(torch.tensor(np.array(X_test)), torch.tensor(np.array(y_test)))\n",
    "\n",
    "train_dataloader = DataLoader(trainset, batch_size=4, shuffle=True)\n",
    "test_dataloader = DataLoader(testset, batch_size=4, shuffle=True)"
   ],
   "execution_count":null,
   "outputs":[
    
   ],
   "metadata":{
    "datalore":{
     "node_id":"sYwfSK8GLZdX4762pkNiTS",
     "type":"CODE",
     "hide_input_from_viewers":false,
     "hide_output_from_viewers":false,
     "report_properties":{
      "y":60
     }
    }
   }
  },
  {
   "cell_type":"code",
   "source":[
    "import torch.nn as nn\n",
    "device = \"cuda\" if torch.cuda.is_available() else \"cpu\"\n",
    "\n",
    "class NeuralNetwork(nn.Module):\n",
    "    def __init__(self):\n",
    "        super(NeuralNetwork, self).__init__()\n",
    "        self.linear = nn.Sequential(\n",
    "            nn.Linear(4, 2),\n",
    "            nn.ReLU(),\n",
    "            nn.Linear(2, 1),\n",
    "        )\n",
    "        \n",
    "    def forward(self, x):\n",
    "        y = self.linear(x)\n",
    "        return y\n",
    "\n",
    "model = NeuralNetwork().to(device)\n",
    "\n",
    "loss_fn = nn.MSELoss()\n",
    "optimizer = torch.optim.SGD(model.parameters(), lr=1e-3)\n",
    "\n",
    "def train(dataloader, model, loss_fn, optimizer):\n",
    "    size = len(dataloader.dataset)\n",
    "    model.train()\n",
    "    for batch, (X, y) in enumerate(dataloader):\n",
    "        X, y = X.to(device), y.to(device)\n",
    "\n",
    "        # Compute prediction error\n",
    "        pred = model(X.float())\n",
    "        loss = loss_fn(pred, y.float())\n",
    "\n",
    "        # Backpropagation\n",
    "        optimizer.zero_grad()\n",
    "        loss.backward()\n",
    "        optimizer.step()\n",
    "\n",
    "def test(dataloader, model, loss_fn):\n",
    "    size = len(dataloader.dataset)\n",
    "    num_batches = len(dataloader)\n",
    "    model.eval()\n",
    "    test_loss = 0\n",
    "    with torch.no_grad():\n",
    "        for X, y in dataloader:\n",
    "            X, y = X.to(device), y.to(device)\n",
    "            pred = model(X.float())\n",
    "            test_loss += loss_fn(pred, y.float()).item()\n",
    "    test_loss \/= num_batches\n",
    "    print(f\"Test Error: \\n, Avg loss: {test_loss:>8f} \\n\")\n",
    "\n",
    "epochs = 5\n",
    "for t in range(epochs):\n",
    "    print(f\"Epoch {t+1}\\n-------------------------------\")\n",
    "    train(train_dataloader, model, loss_fn, optimizer)\n",
    "    test(test_dataloader, model, loss_fn)\n",
    "print(\"Done!\")"
   ],
   "execution_count":null,
   "outputs":[
    {
     "name":"stdout",
     "text":[
      "Epoch 1\n",
      "-------------------------------\n",
      "Test Error: \n",
      ", Avg loss: 0.952174 \n",
      "\n",
      "Epoch 2\n",
      "-------------------------------\n",
      "Test Error: \n",
      ", Avg loss: 0.930446 \n",
      "\n",
      "Epoch 3\n",
      "-------------------------------\n",
      "Test Error: \n",
      ", Avg loss: 0.901495 \n",
      "\n",
      "Epoch 4\n",
      "-------------------------------\n",
      "Test Error: \n",
      ", Avg loss: 0.890255 \n",
      "\n",
      "Epoch 5\n",
      "-------------------------------\n",
      "Test Error: \n",
      ", Avg loss: 0.891847 \n",
      "\n",
      "Done!\n"
     ],
     "output_type":"stream"
    }
   ],
   "metadata":{
    "datalore":{
     "node_id":"5lhqAdIHoV52gcLJOUFNVl",
     "type":"CODE",
     "hide_input_from_viewers":false,
     "hide_output_from_viewers":false,
     "report_properties":{
      "y":81
     }
    }
   }
  },
  {
   "cell_type":"code",
   "source":[
    "import random\n",
    "\n",
    "with torch.no_grad():\n",
    "    impressions = [-0.5, 0, 0.5]\n",
    "    for impression in impressions:\n",
    "        simulate_data = {'age': [], 'gender': [], 'interest': [], 'Impressions': [], 'Total_Conversion': []}\n",
    "        for i in age2index.keys():\n",
    "            for j in gender2index.keys():\n",
    "                for k in interest2index.keys():\n",
    "                    simulate_data['age'].append(i)\n",
    "                    simulate_data['gender'].append(j)\n",
    "                    simulate_data['interest'].append(k)\n",
    "                    simulate_data['Impressions'].append(impression)\n",
    "                    simulate_data['Total_Conversion'].append(model(torch.tensor(np.array([age2index.get(i), gender2index.get(j), interest2index.get(k), impression])).float()))\n",
    "        simulate_data = pd.DataFrame(simulate_data)\n",
    "        print(simulate_data.sort_values(by=['Total_Conversion'], ascending=False).head())"
   ],
   "execution_count":null,
   "outputs":[
    {
     "name":"stdout",
     "text":[
      "       age gender  interest  Impressions   Total_Conversion\n",
      "0    30-34      F         2         -0.5  [tensor(-0.1240)]\n",
      "1    30-34      F         7         -0.5  [tensor(-0.1240)]\n",
      "218  40-44      M        31         -0.5  [tensor(-0.1240)]\n",
      "217  40-44      M        30         -0.5  [tensor(-0.1240)]\n",
      "216  40-44      M        29         -0.5  [tensor(-0.1240)]\n",
      "       age gender  interest  Impressions   Total_Conversion\n",
      "0    30-34      F         2            0  [tensor(-0.1240)]\n",
      "1    30-34      F         7            0  [tensor(-0.1240)]\n",
      "218  40-44      M        31            0  [tensor(-0.1240)]\n",
      "217  40-44      M        30            0  [tensor(-0.1240)]\n",
      "216  40-44      M        29            0  [tensor(-0.1240)]\n",
      "       age gender  interest  Impressions   Total_Conversion\n",
      "0    30-34      F         2          0.5  [tensor(-0.1240)]\n",
      "1    30-34      F         7          0.5  [tensor(-0.1240)]\n",
      "218  40-44      M        31          0.5  [tensor(-0.1240)]\n",
      "217  40-44      M        30          0.5  [tensor(-0.1240)]\n",
      "216  40-44      M        29          0.5  [tensor(-0.1240)]\n"
     ],
     "output_type":"stream"
    }
   ],
   "metadata":{
    "datalore":{
     "node_id":"sLkkSRmF1GhVwJHVdW6Y02",
     "type":"CODE",
     "hide_input_from_viewers":false,
     "hide_output_from_viewers":false,
     "report_properties":{
      "y":118
     }
    }
   }
  },
  {
   "cell_type":"code",
   "source":[
    
   ],
   "execution_count":null,
   "outputs":[
    
   ],
   "metadata":{
    "datalore":{
     "node_id":"Yf9BNWbWnpxHQCFwDjkRgu",
     "type":"CODE",
     "hide_input_from_viewers":true,
     "hide_output_from_viewers":true
    }
   }
  }
 ],
 "metadata":{
  "kernelspec":{
   "display_name":"Python",
   "language":"python",
   "name":"python"
  },
  "datalore":{
   "version":1,
   "computation_mode":"JUPYTER",
   "package_manager":"pip",
   "base_environment":"default",
   "packages":[
    
   ]
  }
 },
 "nbformat":4,
 "nbformat_minor":4
}